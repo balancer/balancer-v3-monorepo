{
 "cells": [
  {
   "cell_type": "code",
   "execution_count": 1,
   "id": "cc63062c",
   "metadata": {},
   "outputs": [
    {
     "ename": "SyntaxError",
     "evalue": "invalid non-printable character U+200B (541081075.py, line 7)",
     "output_type": "error",
     "traceback": [
      "\u001b[0;36m  Cell \u001b[0;32mIn[1], line 7\u001b[0;36m\u001b[0m\n\u001b[0;31m    ​\u001b[0m\n\u001b[0m    ^\u001b[0m\n\u001b[0;31mSyntaxError\u001b[0m\u001b[0;31m:\u001b[0m invalid non-printable character U+200B\n"
     ]
    }
   ],
   "source": [
    "# Charges protocol fees for a given pool and token -> this function should be executed before any operation that touches this token\n",
    "# static_balance = balance of a given pool for a given token\n",
    "# rate = rate of token\n",
    "# last_live_balance = live balance (i.e. static_balance * rate) of this token and pool AFTER the fee was last charged \n",
    "# protocol_fee_percentage = % of fees charged by protocol\n",
    "## PS: static_balance and last_live_balance should be packed in a single 256 word like we do in v2 with managed and cash balances\n",
    "\n",
    "def calculateProtocolFees(static_balance, rate, last_live_balance, protocol_fee_percentage):\n",
    "    # Calculate how much in static tokens should be paid as protocol fees\n",
    "    current_live_balance_without_fees = static_balance * rate\n",
    "    live_balance_to_charge_fees_on = current_live_balance_without_fees - last_live_balance\n",
    "    fee_in_static_token = (live_balance_to_charge_fees_on * protocol_fee_percentage) / rate\n",
    "    \n",
    "    return fee_in_static_token\n",
    "\n",
    "\n",
    "# Charges protocol fees for a given pool and token -> this function should be executed before any operation that touches this token\n",
    "# static_balance = balance of a given pool for a given token\n",
    "# rate = rate of token\n",
    "# static_protocol_fee = balance of fee accrued for a given token (doesn't depend on the pool as it's a global value for that specific token)\n",
    "# last_live_balance = live balance (i.e. static_balance * rate) of this token and pool AFTER the fee was last charged \n",
    "# protocol_fee_percentage = % of fees charged by protocol\n",
    "\n",
    "def chargeProtocolFees(static_balance, rate, static_protocol_fee, last_live_balance, protocol_fee_percentage):\n",
    "    fee_in_static_token = calculateProtocolFees(static_balance, rate, last_live_balance, protocol_fee_percentage)\n",
    "    \n",
    "    # Update states\n",
    "    static_balance -=fee_in_static_token\n",
    "    static_protocol_fee += fee_in_static_token\n",
    "    last_live_balance = static_balance * rate\n",
    "    \n",
    "    return (static_balance, static_protocol_fee, last_live_balance)\n",
    "\n",
    "# View function that should be called to read current live balance of a given pool and token\n",
    "def readLiveBalance(static_balance, rate, last_live_balance, protocol_fee_percentage):\n",
    "    fee_in_static_token = calculateProtocolFees(static_balance, rate, last_live_balance, protocol_fee_percentage)\n",
    "    \n",
    "    # Update states\n",
    "    static_balance -=fee_in_static_token\n",
    "    live_balance = static_balance * rate\n",
    "    return live_balance\n",
    "\n",
    "\n",
    "\n",
    "# Basic testing for increasing rates, \"Live balance read\" should always be equal to new_last_live_balance\n",
    "def printStats():\n",
    "    print(\"Rate:\", rate)\n",
    "    print(\"Live balance read:\", readLiveBalance(static_balance, rate, last_live_balance, protocol_fee_percentage))\n",
    "    [new_static_balance, new_static_protocol_fee, new_last_live_balance] = chargeProtocolFees(static_balance, rate, static_protocol_fee, last_live_balance, protocol_fee_percentage)\n",
    "    print(\"Protocol fees charged\")\n",
    "    print(\"new_static_balance: \", new_static_balance)\n",
    "    print(\"new_static_protocol_fee: \", new_static_protocol_fee)\n",
    "    print(\"new_last_live_balance: \", new_last_live_balance)\n",
    "    print(\"\")\n",
    "\n",
    "rate = 1\n",
    "static_balance = 100\n",
    "static_protocol_fee = 0\n",
    "last_live_balance = 100\n",
    "protocol_fee_percentage = 0.5\n",
    "printStats()\n",
    "\n",
    "rate = 1.1\n",
    "printStats()\n",
    "\n",
    "rate = 1.2\n",
    "printStats()"
   ]
  },
  {
   "cell_type": "code",
   "execution_count": null,
   "id": "d3a0f052",
   "metadata": {},
   "outputs": [],
   "source": []
  }
 ],
 "metadata": {
  "kernelspec": {
   "display_name": "Python 3 (ipykernel)",
   "language": "python",
   "name": "python3"
  },
  "language_info": {
   "codemirror_mode": {
    "name": "ipython",
    "version": 3
   },
   "file_extension": ".py",
   "mimetype": "text/x-python",
   "name": "python",
   "nbconvert_exporter": "python",
   "pygments_lexer": "ipython3",
   "version": "3.11.5"
  }
 },
 "nbformat": 4,
 "nbformat_minor": 5
}
