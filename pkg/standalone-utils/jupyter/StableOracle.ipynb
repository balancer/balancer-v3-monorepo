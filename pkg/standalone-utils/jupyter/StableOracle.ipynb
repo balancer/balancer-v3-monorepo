{
 "cells": [
  {
   "cell_type": "code",
   "execution_count": 78,
   "id": "02b2506e-aa84-4ada-bdbe-147fae4660ae",
   "metadata": {},
   "outputs": [],
   "source": [
    "import math\n",
    "import numpy as np\n",
    "import matplotlib.pyplot as plt"
   ]
  },
  {
   "cell_type": "code",
   "execution_count": 84,
   "id": "1a6da3d5-e5a4-4e48-9213-5a3ab893378e",
   "metadata": {},
   "outputs": [],
   "source": [
    "p = [1.0, 1.0, 1.0]\n",
    "A = 100\n",
    "D = 4000000\n",
    "\n",
    "nO = len(p)\n",
    "nnO = math.pow(nO, nO)\n",
    "aO = A * nnO * nnO\n",
    "negb = aO - nnO"
   ]
  },
  {
   "cell_type": "code",
   "execution_count": 85,
   "id": "bbe6457d-97d8-4868-9d0d-1371753366a1",
   "metadata": {},
   "outputs": [],
   "source": [
    "def computeK(amplificationParameter, a, negb, n, prices):\n",
    "    k = a/min(prices) + 1\n",
    "    for i in range(255):\n",
    "        T, Tl, P, Pl, Tn, Tn1, alpha = computeKparams(amplificationParameter, k, a, negb, n, prices)\n",
    "\n",
    "        fk = Tn1 * P\n",
    "        \n",
    "        if(n%2 == 1):\n",
    "            fk -= alpha\n",
    "        else:\n",
    "            fk += alpha\n",
    "\n",
    "        flk = Tn*((n+1)*Tl*P + T*Pl)\n",
    "        \n",
    "        newK = k - fk / flk\n",
    "        \n",
    "        if (abs(newK - k) < math.pow(10, -5)):\n",
    "            print(T, Tl, P, Pl, Tn, Tn1, alpha)\n",
    "            return newK\n",
    "        k = newK   \n",
    "    raise RuntimeError(\"KDidntConverge()\")\n",
    "\n",
    "def computeF_k(amplificationParameter, k, a, negb, n, prices):\n",
    "    T, Tl, P, Pl, Tn, Tn1, alpha = computeKparams(amplificationParameter, k, a, negb, n, prices)\n",
    "\n",
    "    fk = Tn1 * P\n",
    "        \n",
    "    if(n%2 == 1):\n",
    "        fk -= alpha\n",
    "    else:\n",
    "        fk += alpha\n",
    "\n",
    "    return fk\n",
    "\n",
    "def computeBalancesForPrices(amplificationParameter, invariant, a, negb, n, prices):\n",
    "    k = computeK(amplificationParameter, a, negb, n, prices)\n",
    "    print('k:', k)\n",
    "    \n",
    "    sumPriceDivision = 0\n",
    "    for pi in prices:\n",
    "        sumPriceDivision += a/(k*pi - a)\n",
    "    \n",
    "    balancesForPrices = np.zeros_like(prices)\n",
    "    for i in np.arange(0, n):\n",
    "        balancesForPrices[i] = (negb*invariant/(a - k*p[i]))/(1-sumPriceDivision)\n",
    "\n",
    "    return balancesForPrices\n",
    "\n",
    "def computeKparams(amplificationParameter, k, a, negb, n, prices):\n",
    "    T = 1\n",
    "    Tl = 0\n",
    "    P = 1\n",
    "    Pl = 0\n",
    "    for pi in prices:\n",
    "        ri = pi/a\n",
    "        den = (k*ri - 1)\n",
    "        T -= 1/den\n",
    "        Tl += ri/(den*den)\n",
    "        P = P * den\n",
    "        Pl += ri/den\n",
    "    Pl = Pl*P\n",
    "\n",
    "    c = negb/a\n",
    "    Tn = 1\n",
    "    for j in range(n):\n",
    "        Tn = Tn * T\n",
    "        c = c * (negb/a)\n",
    "    Tn1 = Tn * T\n",
    "    alpha = a*c\n",
    "    return T, Tl, P, Pl, Tn, Tn1, alpha"
   ]
  },
  {
   "cell_type": "code",
   "execution_count": 86,
   "id": "1b01307e-e678-40fc-aa2c-5fcf0ad8750e",
   "metadata": {},
   "outputs": [],
   "source": [
    "k_array = np.arange(7.33e4, 1e8, 1e3)\n",
    "f_k_array = np.zeros_like(k_array)\n",
    "for i in np.arange(0, len(k_array)):\n",
    "    ki = k_array[i]\n",
    "    f_k_array[i] = computeF_k(A, ki, aO, negb, nO, p)"
   ]
  },
  {
   "cell_type": "code",
   "execution_count": 87,
   "id": "21213eb2-68d1-48b7-af48-ce242b01fec3",
   "metadata": {},
   "outputs": [
    {
     "data": {
      "image/png": "[encoded data removed]",
      "text/plain": [
       "<Figure size 1000x600 with 1 Axes>"
      ]
     },
     "metadata": {},
     "output_type": "display_data"
    }
   ],
   "source": [
    "plt.figure(figsize=(10, 6))  # Set figure size for better visibility\n",
    "plt.plot(k_array, f_k_array)\n",
    "plt.xlabel('k')\n",
    "plt.ylabel('F(k)')\n",
    "plt.title('F(k) with a, b, n, and p constant')\n",
    "plt.grid(True)  # Add grid for better readability\n",
    "plt.show()"
   ]
  },
  {
   "cell_type": "code",
   "execution_count": 88,
   "id": "418cdd8e-4660-4b59-be50-c1e401a4476a",
   "metadata": {},
   "outputs": [
    {
     "name": "stdout",
     "output_type": "stream",
     "text": [
      "-2699.000000024398 33.333333333935755 1.3717421124456668e-09 5.080526342437267e-11 -19661138099.53319 53065411731119.78 72792.05998518656\n",
      "k: 72981.0\n",
      "balancesForPrices [1333333.33333333 1333333.33333333 1333333.33333333]\n"
     ]
    }
   ],
   "source": [
    "balancesForPrices = computeBalancesForPrices(A, D, aO, negb, nO, p)\n",
    "print('balancesForPrices', balancesForPrices)"
   ]
  },
  {
   "cell_type": "code",
   "execution_count": 61,
   "id": "c324a6ad-79b4-4cef-8124-4637d91996ec",
   "metadata": {},
   "outputs": [],
   "source": [
    "def compute_invariant(A, balances):\n",
    "    # Calculate the sum of balances\n",
    "    total_balance = sum(balances)\n",
    "    n = len(balances)\n",
    "    prodBalances = 1\n",
    "    for i in range(n):\n",
    "        prodBalances = prodBalances * balances[i]\n",
    "\n",
    "    # Initial invariant\n",
    "    D = total_balance\n",
    "\n",
    "    # Iteratively compute the invariant\n",
    "    for i in range(500):\n",
    "        fD = math.pow(D, n+1)/(math.pow(n, n)*prodBalances) + A*math.pow(n, n)*D - D - A*math.pow(n, n)*total_balance\n",
    "        flD = (n+1)*math.pow(D, n)/(math.pow(n, n)*prodBalances) + A*math.pow(n, n) - 1\n",
    "        newD = D - fD/flD\n",
    "\n",
    "        # Check for convergence\n",
    "        if abs(newD - D) < math.pow(10, -5):\n",
    "            return newD\n",
    "        D = newD\n",
    "\n",
    "    raise RuntimeError(\"StableInvariantDidntConverge()\")"
   ]
  },
  {
   "cell_type": "code",
   "execution_count": 62,
   "id": "01888fc5-bd0b-478f-b984-cf946cec6dfd",
   "metadata": {},
   "outputs": [],
   "source": [
    "def computeBalance(A, balances, D, tokenIndex):\n",
    "    x = 1\n",
    "    n = len(balances)\n",
    "    nn = math.pow(n, n)\n",
    "    prodBalances = 1\n",
    "    sumBalances = 0\n",
    "    for i in range(len(balances)):\n",
    "        if (i != tokenIndex):\n",
    "            prodBalances = prodBalances * balances[i]\n",
    "            sumBalances += balances[i]\n",
    "        \n",
    "    for i in range(255):\n",
    "        fx = A*nn*(sumBalances+x) + D - A*nn*D - math.pow(D, n+1)/(nn*prodBalances*x)\n",
    "        flx = A*nn + math.pow(D, n+1)/(nn*prodBalances*math.pow(x,2))\n",
    "        newX = x - fx/flx\n",
    "        if (abs(x - newX) < math.pow(10, -5)):\n",
    "            return newX\n",
    "        x = newX\n",
    "    raise RuntimeError(\"StableInvariantDidntConverge()\")\n",
    "\n",
    "def computeOutGivenIn(A, balances, D, tokenInIndex, tokenOutIndex, amountIn):\n",
    "    newBalances = balances.copy()\n",
    "    newBalances[tokenInIndex] = newBalances[tokenInIndex] + amountIn\n",
    "    newBalances[tokenOutIndex] = computeBalance(A, newBalances, D, tokenOutIndex)\n",
    "    return balances[tokenOutIndex] - newBalances[tokenOutIndex]"
   ]
  },
  {
   "cell_type": "code",
   "execution_count": 63,
   "id": "89da0df7-be6e-4128-aa7e-c0da9da725e8",
   "metadata": {},
   "outputs": [
    {
     "name": "stdout",
     "output_type": "stream",
     "text": [
      "old invariant 4000000\n",
      "new invariant 3999999.999999993\n",
      "TVL 5025900.745882739\n",
      "final prices [5.00000000e-01 1.00018427e-01 6.00107209e+00 8.00119437e+03]\n"
     ]
    }
   ],
   "source": [
    "newD = compute_invariant(A, balancesForPrices)\n",
    "print('old invariant', D)\n",
    "print('new invariant', newD)\n",
    "tvl = 0\n",
    "for i in range(len(p)):\n",
    "    tvl += p[i]*balancesForPrices[i]\n",
    "\n",
    "print('TVL', tvl)\n",
    "\n",
    "amountIn = 0.0001\n",
    "pBase = p[0]\n",
    "pFinal = np.zeros_like(p)\n",
    "pFinal[0] = pBase\n",
    "for i in range(len(p) - 1):\n",
    "    amountOut = computeOutGivenIn(A, balancesForPrices, D, 0, i+1, amountIn)\n",
    "    pFinal[i+1] = pBase * amountIn/amountOut\n",
    "\n",
    "print('final prices', pFinal)\n"
   ]
  },
  {
   "cell_type": "code",
   "execution_count": null,
   "id": "a7dd7bec-eb7a-40bd-a29d-514e36b79dfb",
   "metadata": {},
   "outputs": [],
   "source": []
  }
 ],
 "metadata": {
  "kernelspec": {
   "display_name": "Python 3 (ipykernel)",
   "language": "python",
   "name": "python3"
  },
  "language_info": {
   "codemirror_mode": {
    "name": "ipython",
    "version": 3
   },
   "file_extension": ".py",
   "mimetype": "text/x-python",
   "name": "python",
   "nbconvert_exporter": "python",
   "pygments_lexer": "ipython3",
   "version": "3.13.3"
  }
 },
 "nbformat": 4,
 "nbformat_minor": 5
}
