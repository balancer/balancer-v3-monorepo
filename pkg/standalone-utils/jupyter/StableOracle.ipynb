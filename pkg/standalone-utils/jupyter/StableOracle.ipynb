{
 "cells": [
  {
   "cell_type": "code",
   "execution_count": 20,
   "id": "02b2506e-aa84-4ada-bdbe-147fae4660ae",
   "metadata": {},
   "outputs": [],
   "source": [
    "import math\n",
    "import numpy as np\n",
    "import matplotlib.pyplot as plt"
   ]
  },
  {
   "cell_type": "code",
   "execution_count": 21,
   "id": "ef416de5-d000-4a59-a466-8d203e3d5872",
   "metadata": {},
   "outputs": [],
   "source": [
    "p = [5.123, 0.1443, 0.9574, 1520.5643]\n",
    "A = 1*math.pow(10, -18)\n",
    "D = 4325434"
   ]
  },
  {
   "cell_type": "code",
   "execution_count": 48,
   "id": "69416886-906f-4adc-ab0d-804401405bbd",
   "metadata": {},
   "outputs": [],
   "source": [
    "p = [868759.5, 260335.1]\n",
    "A = 45465*math.pow(10, -18)\n",
    "D = 3000"
   ]
  },
  {
   "cell_type": "code",
   "execution_count": 49,
   "id": "1a6da3d5-e5a4-4e48-9213-5a3ab893378e",
   "metadata": {},
   "outputs": [],
   "source": [
    "nO = len(p)\n",
    "nnO = math.pow(nO, nO)\n",
    "aO = A * nnO * nnO\n",
    "bO = nnO - aO"
   ]
  },
  {
   "cell_type": "code",
   "execution_count": 50,
   "id": "bbe6457d-97d8-4868-9d0d-1371753366a1",
   "metadata": {},
   "outputs": [],
   "source": [
    "def computeK(a, b, n, prices):\n",
    "    k = 0.000000000001\n",
    "    for i in range(255):\n",
    "        T, Tl, P, Pl, Tn, Tn1, alpha = computeKparams(k, a, b, n, prices)\n",
    "\n",
    "        fk = Tn1 * P - alpha\n",
    "        flk = Tn*((n+1)*Tl*P + T*Pl)\n",
    "        \n",
    "        newK = k - fk / flk\n",
    "        \n",
    "        if (abs(newK - k) < math.pow(10, -5)):\n",
    "            return newK\n",
    "        k = newK   \n",
    "    raise RuntimeError(\"KDidntConverge()\")\n",
    "\n",
    "def computeBalancesForPrices(invariant, a, b, n, prices):\n",
    "    k = computeK(a, b, n, prices)\n",
    "    print('k:', k)\n",
    "    \n",
    "    sumPriceDivision = 0\n",
    "    for pi in prices:\n",
    "        sumPriceDivision += a/(k*pi - a)\n",
    "    \n",
    "    balancesForPrices = np.zeros_like(prices)\n",
    "    for i in np.arange(0, n):\n",
    "        balancesForPrices[i] = (b*invariant/(k*p[i] - a))/(1-sumPriceDivision)\n",
    "\n",
    "    return balancesForPrices\n",
    "\n",
    "def computeKparams(k, a, b, n, prices):\n",
    "    T = 1\n",
    "    Tl = 0\n",
    "    P = 1\n",
    "    Pl = 0\n",
    "    for pi in prices:\n",
    "        ri = pi/a\n",
    "        den = (k*ri - 1)\n",
    "        T -= 1/den\n",
    "        Tl += ri/(den*den)\n",
    "        P = P * den\n",
    "        Pl += ri/den\n",
    "    Pl = Pl*P\n",
    "\n",
    "    c = b/a\n",
    "    Tn = 1\n",
    "    for j in range(n):\n",
    "        Tn = Tn * T\n",
    "        c = c * b/a\n",
    "    Tn1 = Tn * T\n",
    "    alpha = a*c\n",
    "    return T, Tl, P, Pl, Tn, Tn1, alpha"
   ]
  },
  {
   "cell_type": "code",
   "execution_count": 51,
   "id": "1b01307e-e678-40fc-aa2c-5fcf0ad8750e",
   "metadata": {},
   "outputs": [],
   "source": [
    "# Used only to plot the chart\n",
    "def computeF_k(k, a, b, n, prices):\n",
    "    T, Tl, P, Pl, Tn, Tn1, alpha = computeKparams(k, a, b, n, prices)\n",
    "    fk = Tn1 * P - alpha\n",
    "    return fk\n",
    "\n",
    "k_array = np.arange(0, 1000, 0.1)\n",
    "f_k_array = np.zeros_like(k_array)\n",
    "for i in np.arange(0, len(k_array)):\n",
    "    ki = k_array[i]\n",
    "    f_k_array[i] = computeF_k(ki, aO, bO, nO, p)"
   ]
  },
  {
   "cell_type": "code",
   "execution_count": 52,
   "id": "21213eb2-68d1-48b7-af48-ce242b01fec3",
   "metadata": {},
   "outputs": [
    {
     "data": {
      "image/png": "[encoded data removed]",
      "text/plain": [
       "<Figure size 1000x600 with 1 Axes>"
      ]
     },
     "metadata": {},
     "output_type": "display_data"
    }
   ],
   "source": [
    "plt.figure(figsize=(10, 6))  # Set figure size for better visibility\n",
    "plt.plot(k_array, f_k_array)\n",
    "plt.xlabel('k')\n",
    "plt.ylabel('F(k)')\n",
    "plt.title('F(k) with a, b, n, and p constant')\n",
    "plt.grid(True)  # Add grid for better readability\n",
    "plt.show()"
   ]
  },
  {
   "cell_type": "code",
   "execution_count": 53,
   "id": "418cdd8e-4660-4b59-be50-c1e401a4476a",
   "metadata": {},
   "outputs": [
    {
     "name": "stdout",
     "output_type": "stream",
     "text": [
      "k: 1.745639907739067e-05\n",
      "balancesForPrices [ 791.27422171 2640.5467308 ]\n"
     ]
    }
   ],
   "source": [
    "balancesForPrices = computeBalancesForPrices(D, aO, bO, nO, p)\n",
    "print('balancesForPrices', balancesForPrices)"
   ]
  },
  {
   "cell_type": "code",
   "execution_count": 9,
   "id": "c324a6ad-79b4-4cef-8124-4637d91996ec",
   "metadata": {},
   "outputs": [],
   "source": [
    "def compute_invariant(A, balances):\n",
    "    # Calculate the sum of balances\n",
    "    total_balance = sum(balances)\n",
    "    n = len(balances)\n",
    "    prodBalances = 1\n",
    "    for i in range(n):\n",
    "        prodBalances = prodBalances * balances[i]\n",
    "\n",
    "    # Initial invariant\n",
    "    D = total_balance\n",
    "\n",
    "    # Iteratively compute the invariant\n",
    "    for i in range(500):\n",
    "        fD = math.pow(D, n+1)/(math.pow(n, n)*prodBalances) + A*math.pow(n, n)*D - D - A*math.pow(n, n)*total_balance\n",
    "        flD = (n+1)*math.pow(D, n)/(math.pow(n, n)*prodBalances) + A*math.pow(n, n) - 1\n",
    "        newD = D - fD/flD\n",
    "\n",
    "        # Check for convergence\n",
    "        if abs(newD - D) < math.pow(10, -5):\n",
    "            return newD\n",
    "        D = newD\n",
    "\n",
    "    raise RuntimeError(\"StableInvariantDidntConverge()\")"
   ]
  },
  {
   "cell_type": "code",
   "execution_count": 10,
   "id": "01888fc5-bd0b-478f-b984-cf946cec6dfd",
   "metadata": {},
   "outputs": [],
   "source": [
    "def computeBalance(A, balances, D, tokenIndex):\n",
    "    x = 1\n",
    "    n = len(balances)\n",
    "    nn = math.pow(n, n)\n",
    "    prodBalances = 1\n",
    "    sumBalances = 0\n",
    "    for i in range(len(balances)):\n",
    "        if (i != tokenIndex):\n",
    "            prodBalances = prodBalances * balances[i]\n",
    "            sumBalances += balances[i]\n",
    "        \n",
    "    for i in range(255):\n",
    "        fx = A*nn*(sumBalances+x)*prodBalances*x + D*prodBalances*x - A*nn*D*prodBalances*x - math.pow(D, n+1)/(nn)\n",
    "        flx = A*nn*(prodBalances*x + (sumBalances+x)*prodBalances) + D*prodBalances - A*nn*D*prodBalances\n",
    "        newX = x - fx/flx\n",
    "        if (abs(x - newX) < math.pow(10, -5)):\n",
    "            return newX\n",
    "        x = newX\n",
    "    raise RuntimeError(\"StableInvariantDidntConverge()\")\n",
    "\n",
    "def computeOutGivenIn(A, balances, D, tokenInIndex, tokenOutIndex, amountIn):\n",
    "    newBalances = balances.copy()\n",
    "    newBalances[tokenInIndex] = newBalances[tokenInIndex] + amountIn\n",
    "    newBalances[tokenOutIndex] = computeBalance(A, newBalances, D, tokenOutIndex)\n",
    "    return balances[tokenOutIndex] - newBalances[tokenOutIndex]"
   ]
  },
  {
   "cell_type": "code",
   "execution_count": 11,
   "id": "89da0df7-be6e-4128-aa7e-c0da9da725e8",
   "metadata": {},
   "outputs": [
    {
     "name": "stdout",
     "output_type": "stream",
     "text": [
      "old invariant 3000\n",
      "new invariant 3000.0000000000005\n",
      "TVL 3000.0000000000005\n",
      "final prices [1.         0.99999996 0.99999996]\n"
     ]
    }
   ],
   "source": [
    "newD = compute_invariant(A, balancesForPrices)\n",
    "print('old invariant', D)\n",
    "print('new invariant', newD)\n",
    "tvl = 0\n",
    "for i in range(len(p)):\n",
    "    tvl += p[i]*balancesForPrices[i]\n",
    "\n",
    "print('TVL', tvl)\n",
    "\n",
    "amountIn = 0.00001\n",
    "pBase = p[0]\n",
    "pFinal = np.zeros_like(p)\n",
    "pFinal[0] = pBase\n",
    "for i in range(len(p) - 1):\n",
    "    amountOut = computeOutGivenIn(A, balancesForPrices, D, 0, i+1, amountIn)\n",
    "    pFinal[i+1] = pBase * amountIn/amountOut\n",
    "\n",
    "print('final prices', pFinal)\n"
   ]
  },
  {
   "cell_type": "code",
   "execution_count": null,
   "id": "a7dd7bec-eb7a-40bd-a29d-514e36b79dfb",
   "metadata": {},
   "outputs": [],
   "source": []
  }
 ],
 "metadata": {
  "kernelspec": {
   "display_name": "Python 3 (ipykernel)",
   "language": "python",
   "name": "python3"
  },
  "language_info": {
   "codemirror_mode": {
    "name": "ipython",
    "version": 3
   },
   "file_extension": ".py",
   "mimetype": "text/x-python",
   "name": "python",
   "nbconvert_exporter": "python",
   "pygments_lexer": "ipython3",
   "version": "3.13.3"
  }
 },
 "nbformat": 4,
 "nbformat_minor": 5
}
